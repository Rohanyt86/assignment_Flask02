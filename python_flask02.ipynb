{
 "cells": [
  {
   "cell_type": "markdown",
   "id": "0508f6ad",
   "metadata": {},
   "source": [
    "#### Microweb frameworks, like Flask, provide a minimal set of tools for building web applications, focusing on providing a simple and flexible way to build the application's core functionality. Full-stack frameworks, on the other hand, provide a complete solution, including all the tools and libraries necessary to build, deploy, and manage a web application."
   ]
  },
  {
   "cell_type": "markdown",
   "id": "05e5d99d",
   "metadata": {},
   "source": [
    "#### Blueprints in Flask allow you to organize your application into smaller, reusable components, making it easier to manage and maintain your code. Blueprints can contain routes, templates, static files, and other components that can be used across multiple instances of your application."
   ]
  },
  {
   "cell_type": "markdown",
   "id": "cb864f33",
   "metadata": {},
   "source": [
    "#### Postman is a tool for testing web applications, including APIs. It provides a user-friendly interface for sending HTTP requests to a web application and inspecting the responses. With Postman, you can test different HTTP methods (GET, POST, PUT, DELETE, etc.), headers, parameters, and payloads."
   ]
  },
  {
   "cell_type": "markdown",
   "id": "1185feb3",
   "metadata": {},
   "source": [
    "#### Postman is used with Flask to test the functionality of the Flask application. You can use Postman to send HTTP requests to the Flask application and verify the responses, making it easy to test the behavior of the application in different scenarios."
   ]
  },
  {
   "cell_type": "markdown",
   "id": "844130f2",
   "metadata": {},
   "source": [
    "#### Postman provides a number of features for testing APIs, including automated testing, request and response history, and environment variables. These features make it easy to manage and execute API tests, and to ensure that your APIs are working as expected."
   ]
  },
  {
   "cell_type": "markdown",
   "id": "c3f0b5f7",
   "metadata": {},
   "source": [
    "#### Q1. Explain GET and POST methods."
   ]
  },
  {
   "cell_type": "code",
   "execution_count": null,
   "id": "46edda42",
   "metadata": {},
   "outputs": [],
   "source": [
    "GET and POST are two HTTP methods used to send data to a web server.\n",
    "\n",
    "1. **GET Method:**\n",
    "   - Used for requesting data from a specified resource.\n",
    "   - Parameters are appended to the URL.\n",
    "   - Limited data transfer (URL length restrictions).\n",
    "   - Parameters are visible in the URL.\n",
    "   - Generally used for safe and idempotent operations.\n",
    "\n",
    "2. **POST Method:**\n",
    "   - Used for submitting data to be processed to a specified resource.\n",
    "   - Parameters are sent in the request body.\n",
    "   - No restrictions on data transfer.\n",
    "   - Parameters are not visible in the URL.\n",
    "   - Generally used for operations that may have side effects and are not idempotent."
   ]
  },
  {
   "cell_type": "markdown",
   "id": "e8c939ff",
   "metadata": {},
   "source": [
    "#### Q2. Why is request used in Flask?"
   ]
  },
  {
   "cell_type": "code",
   "execution_count": null,
   "id": "91dd3eb8",
   "metadata": {},
   "outputs": [],
   "source": [
    "In Flask, the `request` object is used to access incoming data from a client, typically a web browser. \n",
    "It allows you to retrieve form data, query parameters, and other information sent by the client as part of an HTTP request.\n",
    "The `request` object in Flask provides a convenient way to handle and process user input, enabling dynamic behavior in your\n",
    "web applications."
   ]
  },
  {
   "cell_type": "markdown",
   "id": "60de8cd5",
   "metadata": {},
   "source": [
    "#### Q3. Why is redirect() used in Flask?"
   ]
  },
  {
   "cell_type": "code",
   "execution_count": null,
   "id": "052fd376",
   "metadata": {},
   "outputs": [],
   "source": [
    "In Flask, the `redirect()` function is used to instruct the client's web browser to go to a different location. \n",
    "It is often used after processing a form or handling a particular request to redirect the user to another URL. \n",
    "This helps in maintaining a clean and organized flow of the application \n",
    "and is commonly used for implementing the Post/Redirect/Get (PRG) pattern to avoid form resubmission issues."
   ]
  },
  {
   "cell_type": "markdown",
   "id": "abaa928f",
   "metadata": {},
   "source": [
    "#### Q4. What are templates in Flask? Why is the render_template() function used?"
   ]
  },
  {
   "cell_type": "code",
   "execution_count": null,
   "id": "04504e9f",
   "metadata": {},
   "outputs": [],
   "source": [
    "In Flask, templates are files containing HTML and placeholders for dynamic content. They allow you to separate the \n",
    "structure of an HTML page from the actual data or content, promoting code organization.\n",
    "\n",
    "The `render_template()` function in Flask is used to render these templates. It takes the name of the template file and \n",
    "any additional data as arguments, combining the template with the provided data to generate a complete HTML response. \n",
    "This function simplifies the process of creating dynamic web pages by seamlessly integrating Python code with HTML \n",
    "templates, making it easier to manage and update content."
   ]
  },
  {
   "cell_type": "markdown",
   "id": "c8ce7b37",
   "metadata": {},
   "source": [
    "#### Q5. Create a simple API. Use Postman to test it. Attach the screenshot of the output in the Jupyter Notebook."
   ]
  },
  {
   "cell_type": "code",
   "execution_count": 3,
   "id": "ac86a78e",
   "metadata": {},
   "outputs": [
    {
     "name": "stdout",
     "output_type": "stream",
     "text": [
      " * Serving Flask app \"__main__\" (lazy loading)\n",
      " * Environment: production\n",
      "\u001b[31m   WARNING: This is a development server. Do not use it in a production deployment.\u001b[0m\n",
      "\u001b[2m   Use a production WSGI server instead.\u001b[0m\n",
      " * Debug mode: on\n"
     ]
    },
    {
     "name": "stderr",
     "output_type": "stream",
     "text": [
      " * Restarting with watchdog (windowsapi)\n"
     ]
    },
    {
     "ename": "SystemExit",
     "evalue": "1",
     "output_type": "error",
     "traceback": [
      "An exception has occurred, use %tb to see the full traceback.\n",
      "\u001b[1;31mSystemExit\u001b[0m\u001b[1;31m:\u001b[0m 1\n"
     ]
    }
   ],
   "source": [
    "from flask import Flask, jsonify, request\n",
    "\n",
    "app = Flask(__name__)\n",
    "\n",
    "# Define a simple route\n",
    "@app.route('/api/greet', methods=['POST'])\n",
    "def greet():\n",
    "    data = request.get_json()  # Get JSON data from the request\n",
    "    name = data.get('name', 'Guest')  # Get the 'name' parameter, default to 'Guest' if not provided\n",
    "    greeting = f\"Hello, {name}!\"\n",
    "    return jsonify({'message': greeting})\n",
    "    \n",
    "if __name__ == '__main__':\n",
    "    app.run(debug=True)\n"
   ]
  },
  {
   "cell_type": "code",
   "execution_count": null,
   "id": "1e4a1669",
   "metadata": {},
   "outputs": [],
   "source": []
  }
 ],
 "metadata": {
  "kernelspec": {
   "display_name": "Python 3 (ipykernel)",
   "language": "python",
   "name": "python3"
  },
  "language_info": {
   "codemirror_mode": {
    "name": "ipython",
    "version": 3
   },
   "file_extension": ".py",
   "mimetype": "text/x-python",
   "name": "python",
   "nbconvert_exporter": "python",
   "pygments_lexer": "ipython3",
   "version": "3.9.13"
  }
 },
 "nbformat": 4,
 "nbformat_minor": 5
}
